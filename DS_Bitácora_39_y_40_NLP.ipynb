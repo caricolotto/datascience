{
 "cells": [
  {
   "cell_type": "markdown",
   "metadata": {
    "colab_type": "text",
    "id": "8Rocoz6JQDoN"
   },
   "source": [
    "# NLP\n",
    "\n",
    "A lo largo del notebook vamos a trabajar con el siguiente dataset:\n",
    "\n",
    "https://www.kaggle.com/rmisra/news-headlines-dataset-for-sarcasm-detection/\n",
    "\n",
    "En esa competencia de Kaggle también puedes encontrar Notebooks (*kernels*) sumamente interesantes.\n",
    "\n",
    "El objetivo es que se familiaricen con algunas herramientas típicas del Procesamiento del Lenguaje Natural (NLP por sus siglas en inglés).La biblioteca fundamental que vamos a usar es NLTK. Probablemente tengas que instalarla. Para ello, googlea cómo instalar esta librería con Conda (no olvides activar el ambiente).\n",
    "\n",
    "Ten en cuenta que la mayoría de las herramientas de NLP pueden ser consideradas como parte del preprocesamiento, llevar el texto a una forma que la computadora pueda entender. En general, esto corresponde a una forma tipo \"tabla\" al estilo de los DataFrames de Pandas. Es fácil olvidarse de ese objetivo y perderse en todos los pasos. Al principio es común marearse, pero no te preocupes que verás que no es difícil.\n",
    "\n",
    "\n",
    "## 1. Carga de datos\n",
    "\n",
    "Lo primero que tienes que hacer es fijarse en qué formato están los datos. ¿De qué se trata es formato?¿Cómo se abre? Si googleas, vas a ver que hay muchas formas de abrir archivos JSON con Python. Como venimos trabajando con Pandas, googlea \"Open JSON with Pandas\". Prueben esa función. Si les tira un error en el primer intento, googleen el error. Les aseguramos que la respuesta está muy a mano y es muy accesible, no tienen que hacer nada raro."
   ]
  },
  {
   "cell_type": "code",
   "execution_count": 1,
   "metadata": {
    "colab": {},
    "colab_type": "code",
    "id": "6zuEB4XBQDoS"
   },
   "outputs": [
    {
     "name": "stderr",
     "output_type": "stream",
     "text": [
      "[nltk_data] Downloading package punkt to\n",
      "[nltk_data]     C:\\Users\\Cari\\AppData\\Roaming\\nltk_data...\n",
      "[nltk_data]   Package punkt is already up-to-date!\n",
      "[nltk_data] Downloading package stopwords to\n",
      "[nltk_data]     C:\\Users\\Cari\\AppData\\Roaming\\nltk_data...\n",
      "[nltk_data]   Package stopwords is already up-to-date!\n"
     ]
    },
    {
     "data": {
      "text/plain": [
       "True"
      ]
     },
     "execution_count": 1,
     "metadata": {},
     "output_type": "execute_result"
    }
   ],
   "source": [
    "import itertools\n",
    "\n",
    "import numpy as np\n",
    "import pandas as pd\n",
    "\n",
    "import matplotlib.pyplot as plt\n",
    "import seaborn as sns\n",
    "sns.set()\n",
    "\n",
    "import nltk\n",
    "\n",
    "#Esto sirve para configurar NLTK. La primera vez puede tardar un poco\n",
    "nltk.download('punkt')\n",
    "nltk.download('stopwords')"
   ]
  },
  {
   "cell_type": "code",
   "execution_count": 2,
   "metadata": {
    "colab": {},
    "colab_type": "code",
    "id": "Cbs5U9EAQDpu"
   },
   "outputs": [
    {
     "data": {
      "text/html": [
       "<div>\n",
       "<style scoped>\n",
       "    .dataframe tbody tr th:only-of-type {\n",
       "        vertical-align: middle;\n",
       "    }\n",
       "\n",
       "    .dataframe tbody tr th {\n",
       "        vertical-align: top;\n",
       "    }\n",
       "\n",
       "    .dataframe thead th {\n",
       "        text-align: right;\n",
       "    }\n",
       "</style>\n",
       "<table border=\"1\" class=\"dataframe\">\n",
       "  <thead>\n",
       "    <tr style=\"text-align: right;\">\n",
       "      <th></th>\n",
       "      <th>article_link</th>\n",
       "      <th>headline</th>\n",
       "      <th>is_sarcastic</th>\n",
       "    </tr>\n",
       "  </thead>\n",
       "  <tbody>\n",
       "    <tr>\n",
       "      <th>0</th>\n",
       "      <td>https://www.huffingtonpost.com/entry/versace-b...</td>\n",
       "      <td>former versace store clerk sues over secret 'b...</td>\n",
       "      <td>0</td>\n",
       "    </tr>\n",
       "    <tr>\n",
       "      <th>1</th>\n",
       "      <td>https://www.huffingtonpost.com/entry/roseanne-...</td>\n",
       "      <td>the 'roseanne' revival catches up to our thorn...</td>\n",
       "      <td>0</td>\n",
       "    </tr>\n",
       "    <tr>\n",
       "      <th>2</th>\n",
       "      <td>https://local.theonion.com/mom-starting-to-fea...</td>\n",
       "      <td>mom starting to fear son's web series closest ...</td>\n",
       "      <td>1</td>\n",
       "    </tr>\n",
       "    <tr>\n",
       "      <th>3</th>\n",
       "      <td>https://politics.theonion.com/boehner-just-wan...</td>\n",
       "      <td>boehner just wants wife to listen, not come up...</td>\n",
       "      <td>1</td>\n",
       "    </tr>\n",
       "    <tr>\n",
       "      <th>4</th>\n",
       "      <td>https://www.huffingtonpost.com/entry/jk-rowlin...</td>\n",
       "      <td>j.k. rowling wishes snape happy birthday in th...</td>\n",
       "      <td>0</td>\n",
       "    </tr>\n",
       "  </tbody>\n",
       "</table>\n",
       "</div>"
      ],
      "text/plain": [
       "                                        article_link  \\\n",
       "0  https://www.huffingtonpost.com/entry/versace-b...   \n",
       "1  https://www.huffingtonpost.com/entry/roseanne-...   \n",
       "2  https://local.theonion.com/mom-starting-to-fea...   \n",
       "3  https://politics.theonion.com/boehner-just-wan...   \n",
       "4  https://www.huffingtonpost.com/entry/jk-rowlin...   \n",
       "\n",
       "                                            headline  is_sarcastic  \n",
       "0  former versace store clerk sues over secret 'b...             0  \n",
       "1  the 'roseanne' revival catches up to our thorn...             0  \n",
       "2  mom starting to fear son's web series closest ...             1  \n",
       "3  boehner just wants wife to listen, not come up...             1  \n",
       "4  j.k. rowling wishes snape happy birthday in th...             0  "
      ]
     },
     "execution_count": 2,
     "metadata": {},
     "output_type": "execute_result"
    }
   ],
   "source": [
    "dataset = pd.read_json('Sarcasm_Headlines_Dataset.json', lines=True)\n",
    "dataset.head()"
   ]
  },
  {
   "cell_type": "markdown",
   "metadata": {
    "colab_type": "text",
    "id": "Hl7rKTmTQDqN"
   },
   "source": [
    "¿Qué forma tiene el dataset?¿Cuántas instancias?¿Cuáles son sus columnas?¿Cuántos titulares hay de cada tipo?¿Podemos hablar ya de *features*?"
   ]
  },
  {
   "cell_type": "code",
   "execution_count": 3,
   "metadata": {
    "colab": {},
    "colab_type": "code",
    "id": "aY1cwqU6QDqP"
   },
   "outputs": [
    {
     "data": {
      "text/plain": [
       "(26709, 3)"
      ]
     },
     "execution_count": 3,
     "metadata": {},
     "output_type": "execute_result"
    }
   ],
   "source": [
    "dataset.shape"
   ]
  },
  {
   "cell_type": "code",
   "execution_count": 5,
   "metadata": {
    "colab": {},
    "colab_type": "code",
    "id": "e2rOn5F7QDqr"
   },
   "outputs": [
    {
     "data": {
      "image/png": "[encoded data removed]",
      "text/plain": [
       "<Figure size 432x288 with 1 Axes>"
      ]
     },
     "metadata": {},
     "output_type": "display_data"
    }
   ],
   "source": [
    "sns.countplot(x='is_sarcastic', data= dataset)\n",
    "plt.title('Análisis Sarcasmo')\n",
    "plt.xlabel('Sarcasmo: 1 = Si, 0 = No')\n",
    "plt.grid()\n",
    "plt.show()"
   ]
  },
  {
   "cell_type": "markdown",
   "metadata": {
    "colab_type": "text",
    "id": "donPzE5pQDrz"
   },
   "source": [
    "## 2. Breve exploración del dataset\n",
    "\n",
    "Elige una instancia del dataset al azar y selecciona el *headline*."
   ]
  },
  {
   "cell_type": "code",
   "execution_count": 7,
   "metadata": {
    "colab": {},
    "colab_type": "code",
    "id": "HH7jvZLzQDsB"
   },
   "outputs": [
    {
     "name": "stdout",
     "output_type": "stream",
     "text": [
      "3689 mikhail gorbachev says nato is escalating cold war with russia 'into a hot one'\n"
     ]
    }
   ],
   "source": [
    "index_random = np.random.randint(0,26708) #todos los registros\n",
    "titular = dataset.headline[index_random]\n",
    "print(index_random, titular)"
   ]
  },
  {
   "cell_type": "markdown",
   "metadata": {
    "colab_type": "text",
    "id": "OsJaF6OMQDtK"
   },
   "source": [
    "¿Te parece que es sarcástico?¿Qué características del texto te hace creer - o no - eso? Comprueba si es sarcástico o no imprimiendo en la celda de abajo el valor correspondiente del dataset. (Como la mayoría de los titulares están en inglés y encima refieren a política local, no te preocupes si es una tarea difícil)."
   ]
  },
  {
   "cell_type": "code",
   "execution_count": 8,
   "metadata": {
    "colab": {},
    "colab_type": "code",
    "id": "cHAJogrzQDtM"
   },
   "outputs": [
    {
     "name": "stdout",
     "output_type": "stream",
     "text": [
      "3689 0\n"
     ]
    }
   ],
   "source": [
    "print(index_random, dataset.is_sarcastic[index_random])"
   ]
  },
  {
   "cell_type": "markdown",
   "metadata": {
    "colab_type": "text",
    "id": "rNtANEK3QDtv"
   },
   "source": [
    "## 3. NLTK\n",
    "\n",
    "Si es difícil para algunos humanos detectar el sarcasmo, probablemente también lo sea para una computadora. De todas formas, se puede hacer el intento. Para ello, es necesario extraer características de cada texto que nos sirvan para ir apuntando al objetivo. En los videos de Acámica hay muchos ejemplo de herramientas para aplicar. Elegir un titular que les llame la atención y probar las siguientes herramientas:\n",
    "\n",
    "### Tokenización\n",
    "\n",
    "¿Qué es y para qué sirve?¿Cuáles de todas las formas de tokenización presentadas te parece más útil para este problema?\n",
    "\n",
    "1. `sent_tokenize`"
   ]
  },
  {
   "cell_type": "code",
   "execution_count": 9,
   "metadata": {
    "colab": {},
    "colab_type": "code",
    "id": "WAKAy9oyQDtx"
   },
   "outputs": [
    {
     "data": {
      "text/plain": [
       "[\"mikhail gorbachev says nato is escalating cold war with russia 'into a hot one'\"]"
      ]
     },
     "execution_count": 9,
     "metadata": {},
     "output_type": "execute_result"
    }
   ],
   "source": [
    "titular_st = nltk.sent_tokenize(dataset.headline[index_random])\n",
    "titular_st"
   ]
  },
  {
   "cell_type": "markdown",
   "metadata": {
    "colab_type": "text",
    "id": "nUmf69X3QDup"
   },
   "source": [
    "2. `word_tokenize`"
   ]
  },
  {
   "cell_type": "code",
   "execution_count": 10,
   "metadata": {
    "colab": {},
    "colab_type": "code",
    "id": "JL-3UNDrQDus"
   },
   "outputs": [
    {
     "data": {
      "text/plain": [
       "['mikhail',\n",
       " 'gorbachev',\n",
       " 'says',\n",
       " 'nato',\n",
       " 'is',\n",
       " 'escalating',\n",
       " 'cold',\n",
       " 'war',\n",
       " 'with',\n",
       " 'russia',\n",
       " \"'into\",\n",
       " 'a',\n",
       " 'hot',\n",
       " 'one',\n",
       " \"'\"]"
      ]
     },
     "execution_count": 10,
     "metadata": {},
     "output_type": "execute_result"
    }
   ],
   "source": [
    "titular_wt = nltk.word_tokenize(dataset.headline[index_random])\n",
    "titular_wt"
   ]
  },
  {
   "cell_type": "markdown",
   "metadata": {
    "colab_type": "text",
    "id": "2xcVuKaSQDvo"
   },
   "source": [
    "### Normalización\n",
    "\n",
    "¿Qué es y para qué sirve? Notar que varias formas de normalización ya vienen aplicadas en el dataset.\n",
    "\n",
    "1. Stopwords\n",
    "\n",
    "Importar los `stopwords` del inglés e imprimirlos."
   ]
  },
  {
   "cell_type": "code",
   "execution_count": 11,
   "metadata": {
    "colab": {},
    "colab_type": "code",
    "id": "9q5uB0j7QDvq"
   },
   "outputs": [
    {
     "data": {
      "text/plain": [
       "['i',\n",
       " 'me',\n",
       " 'my',\n",
       " 'myself',\n",
       " 'we',\n",
       " 'our',\n",
       " 'ours',\n",
       " 'ourselves',\n",
       " 'you',\n",
       " \"you're\",\n",
       " \"you've\",\n",
       " \"you'll\",\n",
       " \"you'd\",\n",
       " 'your',\n",
       " 'yours',\n",
       " 'yourself',\n",
       " 'yourselves',\n",
       " 'he',\n",
       " 'him',\n",
       " 'his',\n",
       " 'himself',\n",
       " 'she',\n",
       " \"she's\",\n",
       " 'her',\n",
       " 'hers',\n",
       " 'herself',\n",
       " 'it',\n",
       " \"it's\",\n",
       " 'its',\n",
       " 'itself',\n",
       " 'they',\n",
       " 'them',\n",
       " 'their',\n",
       " 'theirs',\n",
       " 'themselves',\n",
       " 'what',\n",
       " 'which',\n",
       " 'who',\n",
       " 'whom',\n",
       " 'this',\n",
       " 'that',\n",
       " \"that'll\",\n",
       " 'these',\n",
       " 'those',\n",
       " 'am',\n",
       " 'is',\n",
       " 'are',\n",
       " 'was',\n",
       " 'were',\n",
       " 'be',\n",
       " 'been',\n",
       " 'being',\n",
       " 'have',\n",
       " 'has',\n",
       " 'had',\n",
       " 'having',\n",
       " 'do',\n",
       " 'does',\n",
       " 'did',\n",
       " 'doing',\n",
       " 'a',\n",
       " 'an',\n",
       " 'the',\n",
       " 'and',\n",
       " 'but',\n",
       " 'if',\n",
       " 'or',\n",
       " 'because',\n",
       " 'as',\n",
       " 'until',\n",
       " 'while',\n",
       " 'of',\n",
       " 'at',\n",
       " 'by',\n",
       " 'for',\n",
       " 'with',\n",
       " 'about',\n",
       " 'against',\n",
       " 'between',\n",
       " 'into',\n",
       " 'through',\n",
       " 'during',\n",
       " 'before',\n",
       " 'after',\n",
       " 'above',\n",
       " 'below',\n",
       " 'to',\n",
       " 'from',\n",
       " 'up',\n",
       " 'down',\n",
       " 'in',\n",
       " 'out',\n",
       " 'on',\n",
       " 'off',\n",
       " 'over',\n",
       " 'under',\n",
       " 'again',\n",
       " 'further',\n",
       " 'then',\n",
       " 'once',\n",
       " 'here',\n",
       " 'there',\n",
       " 'when',\n",
       " 'where',\n",
       " 'why',\n",
       " 'how',\n",
       " 'all',\n",
       " 'any',\n",
       " 'both',\n",
       " 'each',\n",
       " 'few',\n",
       " 'more',\n",
       " 'most',\n",
       " 'other',\n",
       " 'some',\n",
       " 'such',\n",
       " 'no',\n",
       " 'nor',\n",
       " 'not',\n",
       " 'only',\n",
       " 'own',\n",
       " 'same',\n",
       " 'so',\n",
       " 'than',\n",
       " 'too',\n",
       " 'very',\n",
       " 's',\n",
       " 't',\n",
       " 'can',\n",
       " 'will',\n",
       " 'just',\n",
       " 'don',\n",
       " \"don't\",\n",
       " 'should',\n",
       " \"should've\",\n",
       " 'now',\n",
       " 'd',\n",
       " 'll',\n",
       " 'm',\n",
       " 'o',\n",
       " 're',\n",
       " 've',\n",
       " 'y',\n",
       " 'ain',\n",
       " 'aren',\n",
       " \"aren't\",\n",
       " 'couldn',\n",
       " \"couldn't\",\n",
       " 'didn',\n",
       " \"didn't\",\n",
       " 'doesn',\n",
       " \"doesn't\",\n",
       " 'hadn',\n",
       " \"hadn't\",\n",
       " 'hasn',\n",
       " \"hasn't\",\n",
       " 'haven',\n",
       " \"haven't\",\n",
       " 'isn',\n",
       " \"isn't\",\n",
       " 'ma',\n",
       " 'mightn',\n",
       " \"mightn't\",\n",
       " 'mustn',\n",
       " \"mustn't\",\n",
       " 'needn',\n",
       " \"needn't\",\n",
       " 'shan',\n",
       " \"shan't\",\n",
       " 'shouldn',\n",
       " \"shouldn't\",\n",
       " 'wasn',\n",
       " \"wasn't\",\n",
       " 'weren',\n",
       " \"weren't\",\n",
       " 'won',\n",
       " \"won't\",\n",
       " 'wouldn',\n",
       " \"wouldn't\"]"
      ]
     },
     "execution_count": 11,
     "metadata": {},
     "output_type": "execute_result"
    }
   ],
   "source": [
    "stopwords = nltk.corpus.stopwords.words('english')\n",
    "stopwords"
   ]
  },
  {
   "cell_type": "markdown",
   "metadata": {
    "colab_type": "text",
    "id": "zBkOmQUJQDwQ"
   },
   "source": [
    "¿Les parece conveniente aplicar todos los stopwords que aparecen en esa lista?\n",
    "\n",
    "Eliminar del titular elegido los stopwords."
   ]
  },
  {
   "cell_type": "code",
   "execution_count": 12,
   "metadata": {
    "colab": {},
    "colab_type": "code",
    "id": "CvDlqAAOQDwS"
   },
   "outputs": [
    {
     "data": {
      "text/plain": [
       "['mikhail',\n",
       " 'gorbachev',\n",
       " 'says',\n",
       " 'nato',\n",
       " 'escalating',\n",
       " 'cold',\n",
       " 'war',\n",
       " 'russia',\n",
       " \"'into\",\n",
       " 'hot',\n",
       " 'one',\n",
       " \"'\"]"
      ]
     },
     "execution_count": 12,
     "metadata": {},
     "output_type": "execute_result"
    }
   ],
   "source": [
    "titular_wt_sin_sw = [wt for wt in titular_wt if wt not in stopwords]\n",
    "titular_wt_sin_sw"
   ]
  },
  {
   "cell_type": "markdown",
   "metadata": {
    "colab_type": "text",
    "id": "sKAPPvk4QDww"
   },
   "source": [
    "¿Cuál o cuáles palabras se fueron?"
   ]
  },
  {
   "cell_type": "code",
   "execution_count": 14,
   "metadata": {},
   "outputs": [
    {
     "data": {
      "text/plain": [
       "array(['a', 'is', 'with'], dtype='<U10')"
      ]
     },
     "execution_count": 14,
     "metadata": {},
     "output_type": "execute_result"
    }
   ],
   "source": [
    "np.setdiff1d(titular_wt, titular_wt_sin_sw)"
   ]
  },
  {
   "cell_type": "markdown",
   "metadata": {
    "colab_type": "text",
    "id": "lPaSqYtYQDwy"
   },
   "source": [
    "### Frecuencia de palabras\n",
    "\n",
    "Dado el titular ya tokenizado por palabras y sin stopwords, usar `nltk` para extrar la frecuencia con que aparece cada palabras. ¿Tiene sentido esto para titulares?"
   ]
  },
  {
   "cell_type": "code",
   "execution_count": 15,
   "metadata": {
    "colab": {},
    "colab_type": "code",
    "id": "Q3kjhQROQDxS"
   },
   "outputs": [
    {
     "data": {
      "text/plain": [
       "['mikhail',\n",
       " 'gorbachev',\n",
       " 'says',\n",
       " 'nato',\n",
       " 'escalating',\n",
       " 'cold',\n",
       " 'war',\n",
       " 'russia',\n",
       " \"'into\",\n",
       " 'hot',\n",
       " 'one',\n",
       " \"'\"]"
      ]
     },
     "execution_count": 15,
     "metadata": {},
     "output_type": "execute_result"
    }
   ],
   "source": [
    "freq = nltk.unique_list(titular_wt_sin_sw)\n",
    "freq"
   ]
  },
  {
   "cell_type": "markdown",
   "metadata": {
    "colab_type": "text",
    "id": "qDB4tKe3QDxo"
   },
   "source": [
    "### Dataset Completo\n",
    "\n",
    "Antes de pasar a extraer features de cada instancia del Dataset, podemos hacer un pequeño análisis del dataset en su conjunto. Por ejemplo, una opción es agrupar todos los titulares por tipo y extraer de cada clase las palabras más frecuentes. Para ello:\n",
    "\n",
    "1. Agrupar los titulares por tipo. Crear un dataframe para cada uno. Recuerden usar máscaras.\n",
    "2. Crear una lista vacia y agregar en esa lista todos los titulares (por tipo/dataframe creado) ya tokenizados (usar el `RegexpTokenizer`) y filtrado por `stopwords`.\n",
    "3. Usar el `FreqDist` en esa lista que acaban de llenar. Llevar lo que devuelve `FreqDist` a un Dataframe. Ordenar por frecuencia en que aparece cada palabra.\n",
    "4. Hacer un `barplot` o similar para visualizar.\n",
    "5. ¿Qué palabras filtrarían, aparte de las que aparecen en `stopwords`? Crear una lista vacía y agregarlas a mano. Agregar en el código que realizaron una línea (similar a la que usan con `stopwords`) para que también filtre por esas palabras.\n",
    "6. Volver a visualizar.\n",
    "\n",
    "#### No-Sarcasmo"
   ]
  },
  {
   "cell_type": "code",
   "execution_count": 16,
   "metadata": {
    "colab": {},
    "colab_type": "code",
    "id": "dHFV4nRCQDx3"
   },
   "outputs": [
    {
     "data": {
      "text/html": [
       "<div>\n",
       "<style scoped>\n",
       "    .dataframe tbody tr th:only-of-type {\n",
       "        vertical-align: middle;\n",
       "    }\n",
       "\n",
       "    .dataframe tbody tr th {\n",
       "        vertical-align: top;\n",
       "    }\n",
       "\n",
       "    .dataframe thead th {\n",
       "        text-align: right;\n",
       "    }\n",
       "</style>\n",
       "<table border=\"1\" class=\"dataframe\">\n",
       "  <thead>\n",
       "    <tr style=\"text-align: right;\">\n",
       "      <th></th>\n",
       "      <th>article_link</th>\n",
       "      <th>headline</th>\n",
       "      <th>is_sarcastic</th>\n",
       "    </tr>\n",
       "  </thead>\n",
       "  <tbody>\n",
       "    <tr>\n",
       "      <th>0</th>\n",
       "      <td>https://www.huffingtonpost.com/entry/versace-b...</td>\n",
       "      <td>former versace store clerk sues over secret 'b...</td>\n",
       "      <td>0</td>\n",
       "    </tr>\n",
       "    <tr>\n",
       "      <th>1</th>\n",
       "      <td>https://www.huffingtonpost.com/entry/roseanne-...</td>\n",
       "      <td>the 'roseanne' revival catches up to our thorn...</td>\n",
       "      <td>0</td>\n",
       "    </tr>\n",
       "    <tr>\n",
       "      <th>4</th>\n",
       "      <td>https://www.huffingtonpost.com/entry/jk-rowlin...</td>\n",
       "      <td>j.k. rowling wishes snape happy birthday in th...</td>\n",
       "      <td>0</td>\n",
       "    </tr>\n",
       "    <tr>\n",
       "      <th>5</th>\n",
       "      <td>https://www.huffingtonpost.com/entry/advancing...</td>\n",
       "      <td>advancing the world's women</td>\n",
       "      <td>0</td>\n",
       "    </tr>\n",
       "    <tr>\n",
       "      <th>6</th>\n",
       "      <td>https://www.huffingtonpost.com/entry/how-meat-...</td>\n",
       "      <td>the fascinating case for eating lab-grown meat</td>\n",
       "      <td>0</td>\n",
       "    </tr>\n",
       "  </tbody>\n",
       "</table>\n",
       "</div>"
      ],
      "text/plain": [
       "                                        article_link  \\\n",
       "0  https://www.huffingtonpost.com/entry/versace-b...   \n",
       "1  https://www.huffingtonpost.com/entry/roseanne-...   \n",
       "4  https://www.huffingtonpost.com/entry/jk-rowlin...   \n",
       "5  https://www.huffingtonpost.com/entry/advancing...   \n",
       "6  https://www.huffingtonpost.com/entry/how-meat-...   \n",
       "\n",
       "                                            headline  is_sarcastic  \n",
       "0  former versace store clerk sues over secret 'b...             0  \n",
       "1  the 'roseanne' revival catches up to our thorn...             0  \n",
       "4  j.k. rowling wishes snape happy birthday in th...             0  \n",
       "5                        advancing the world's women             0  \n",
       "6     the fascinating case for eating lab-grown meat             0  "
      ]
     },
     "execution_count": 16,
     "metadata": {},
     "output_type": "execute_result"
    }
   ],
   "source": [
    "dataset_no_sarcasmo = dataset[dataset.is_sarcastic ==0]\n",
    "dataset_no_sarcasmo.head()"
   ]
  },
  {
   "cell_type": "code",
   "execution_count": 20,
   "metadata": {
    "colab": {},
    "colab_type": "code",
    "id": "hnqsLCHyQDyQ"
   },
   "outputs": [],
   "source": [
    "todos_titulares_no_sarcasmo = []\n",
    "reg= r'[\\d.-]+|[A-Z]+\\b\\.*|\\w+|\\S'\n",
    "for i in range(dataset_no_sarcasmo.shape[0]):\n",
    "    titular = dataset_no_sarcasmo.headline.iloc[i] #seleccionar el titular\n",
    "    titular = nltk.RegexpTokenizer(reg).tokenize(titular) # Tokenizar con RegexpTokenizer\n",
    "    titular = [i for i in titular if i not in stopwords] # Filtrar por stopwords\n",
    "    todos_titulares_no_sarcasmo.append(titular) #agregar el resultado a la lista"
   ]
  },
  {
   "cell_type": "code",
   "execution_count": 21,
   "metadata": {
    "colab": {},
    "colab_type": "code",
    "id": "X9zFIPbOQDzG"
   },
   "outputs": [
    {
     "data": {
      "text/plain": [
       "['former',\n",
       " 'versace',\n",
       " 'store',\n",
       " 'clerk',\n",
       " 'sues',\n",
       " 'secret',\n",
       " \"'\",\n",
       " 'black',\n",
       " 'code',\n",
       " \"'\",\n",
       " 'minority',\n",
       " 'shoppers',\n",
       " \"'\",\n",
       " 'roseanne',\n",
       " \"'\",\n",
       " 'revival',\n",
       " 'catches',\n",
       " 'thorny',\n",
       " 'political',\n",
       " 'mood',\n",
       " ',',\n",
       " 'better',\n",
       " 'worse',\n",
       " 'j',\n",
       " '.',\n",
       " 'k',\n",
       " '.',\n",
       " 'rowling',\n",
       " 'wishes',\n",
       " 'snape',\n",
       " 'happy',\n",
       " 'birthday',\n",
       " 'magical',\n",
       " 'way',\n",
       " 'advancing',\n",
       " 'world',\n",
       " \"'\",\n",
       " 'women',\n",
       " 'fascinating',\n",
       " 'case',\n",
       " 'eating',\n",
       " 'lab',\n",
       " '-',\n",
       " 'grown',\n",
       " 'meat',\n",
       " 'ceo',\n",
       " 'send',\n",
       " 'kids',\n",
       " 'school',\n",
       " ',',\n",
       " 'work',\n",
       " 'company',\n",
       " 'friday',\n",
       " \"'\",\n",
       " 'morning',\n",
       " 'email',\n",
       " ':',\n",
       " 'inside',\n",
       " 'trump',\n",
       " \"'\",\n",
       " 'presser',\n",
       " 'ages',\n",
       " 'airline',\n",
       " 'passengers',\n",
       " 'tackle',\n",
       " 'man',\n",
       " 'rushes',\n",
       " 'cockpit',\n",
       " 'bomb',\n",
       " 'threat',\n",
       " 'facebook',\n",
       " 'reportedly',\n",
       " 'working',\n",
       " 'healthcare',\n",
       " 'features',\n",
       " 'apps',\n",
       " 'north',\n",
       " 'korea',\n",
       " 'praises',\n",
       " 'trump',\n",
       " 'urges',\n",
       " 'us',\n",
       " 'voters',\n",
       " 'reject',\n",
       " \"'\",\n",
       " 'dull',\n",
       " 'hillary',\n",
       " \"'\",\n",
       " 'actually',\n",
       " ',',\n",
       " 'cnn',\n",
       " \"'\",\n",
       " 'jeffrey',\n",
       " 'lord',\n",
       " \"'\",\n",
       " 'indefensible',\n",
       " \"'\",\n",
       " 'barcelona',\n",
       " 'holds',\n",
       " 'huge',\n",
       " 'protest',\n",
       " 'support',\n",
       " 'refugees',\n",
       " 'bloomberg',\n",
       " \"'\",\n",
       " 'program',\n",
       " 'build',\n",
       " 'better',\n",
       " 'cities',\n",
       " 'got',\n",
       " 'bigger',\n",
       " 'craig',\n",
       " 'hicks',\n",
       " 'indicted',\n",
       " 'qatar',\n",
       " 'deporting',\n",
       " 'dutch',\n",
       " 'woman',\n",
       " 'reported',\n",
       " 'drugged',\n",
       " 'raped',\n",
       " \"'\",\n",
       " 'go',\n",
       " 'circus',\n",
       " 'ted',\n",
       " 'cruz',\n",
       " 'hits',\n",
       " 'panic',\n",
       " 'button',\n",
       " ':',\n",
       " \"'\",\n",
       " 'could',\n",
       " 'lose',\n",
       " 'houses',\n",
       " 'congress',\n",
       " \"'\",\n",
       " 'writers',\n",
       " 'must',\n",
       " 'plan',\n",
       " 'surprised',\n",
       " 'obama',\n",
       " 'visits',\n",
       " 'arlington',\n",
       " 'national',\n",
       " 'cemetery',\n",
       " 'honor',\n",
       " 'veterans',\n",
       " 'remembrance',\n",
       " 'beginning',\n",
       " 'task',\n",
       " 'allies',\n",
       " ':',\n",
       " 'islamist',\n",
       " 'motive',\n",
       " 'killing',\n",
       " 'nemtsov',\n",
       " 'nonsense',\n",
       " 'gillian',\n",
       " 'jacobs',\n",
       " \"'\",\n",
       " 'like',\n",
       " 'kiss',\n",
       " 'adam',\n",
       " 'brody',\n",
       " 'uber',\n",
       " 'vows',\n",
       " 'repay',\n",
       " 'nyc',\n",
       " 'drivers',\n",
       " \"'\",\n",
       " 'tens',\n",
       " 'millions',\n",
       " \"'\",\n",
       " 'tax',\n",
       " 'snafu',\n",
       " 'apple',\n",
       " 'may',\n",
       " 'poached',\n",
       " 'electric',\n",
       " 'motorcycle',\n",
       " 'company',\n",
       " 'death',\n",
       " 'drug',\n",
       " '-',\n",
       " 'resistant',\n",
       " 'bacteria',\n",
       " 'often',\n",
       " 'lurk',\n",
       " 'children',\n",
       " \"'\",\n",
       " ',',\n",
       " 'dogs',\n",
       " \"'\",\n",
       " 'sandboxes',\n",
       " 'see',\n",
       " 'muslim',\n",
       " 'airport',\n",
       " \"'\",\n",
       " 'moana',\n",
       " \"'\",\n",
       " 'sails',\n",
       " 'straight',\n",
       " 'top',\n",
       " 'box',\n",
       " 'office',\n",
       " 'massive',\n",
       " '$',\n",
       " '81.1',\n",
       " 'million',\n",
       " 'opening',\n",
       " 'selig',\n",
       " 'counted',\n",
       " 'money',\n",
       " 'baseball',\n",
       " 'lost',\n",
       " 'next',\n",
       " 'generation',\n",
       " 'fans',\n",
       " 'devin',\n",
       " 'nunes',\n",
       " 'vows',\n",
       " \"'\",\n",
       " 'never',\n",
       " \"'\",\n",
       " 'reveal',\n",
       " 'source',\n",
       " 'surveillance',\n",
       " 'claims',\n",
       " 'scott',\n",
       " 'used',\n",
       " 'stop',\n",
       " 'breathing',\n",
       " 'nearly',\n",
       " '40',\n",
       " 'times',\n",
       " 'hour',\n",
       " '.',\n",
       " 'device',\n",
       " 'changed',\n",
       " 'life',\n",
       " 'medics',\n",
       " 'drop',\n",
       " 'soccer',\n",
       " 'player',\n",
       " 'stretcher',\n",
       " ';',\n",
       " \"'\",\n",
       " 'ticked',\n",
       " 'give',\n",
       " 'gift',\n",
       " 'play',\n",
       " 'holiday',\n",
       " 'season',\n",
       " 'spicer',\n",
       " 'denies',\n",
       " 'ending',\n",
       " 'maternity',\n",
       " 'care',\n",
       " 'guarantee',\n",
       " 'would',\n",
       " 'mean',\n",
       " 'women',\n",
       " 'pay',\n",
       " 'health',\n",
       " 'care',\n",
       " 'diy',\n",
       " ':',\n",
       " 'sports',\n",
       " 'equipment',\n",
       " 'closet',\n",
       " '1',\n",
       " 'dead',\n",
       " ',',\n",
       " '3',\n",
       " 'injured',\n",
       " 'shooting',\n",
       " '.',\n",
       " '.',\n",
       " 'concert',\n",
       " 'nyc',\n",
       " 'donald',\n",
       " 'trump',\n",
       " 'heading',\n",
       " 'series',\n",
       " 'wins',\n",
       " 'northeast',\n",
       " ',',\n",
       " 'polls',\n",
       " 'say',\n",
       " 'donald',\n",
       " 'trump',\n",
       " \"'\",\n",
       " 'ready',\n",
       " 'cash',\n",
       " 'self',\n",
       " '-',\n",
       " 'finance',\n",
       " 'entire',\n",
       " 'campaign',\n",
       " '—',\n",
       " 'analysis',\n",
       " 'un',\n",
       " 'rights',\n",
       " 'chief',\n",
       " 'calls',\n",
       " 'humanitarian',\n",
       " 'situation',\n",
       " 'syria',\n",
       " \"'\",\n",
       " 'outrage',\n",
       " \"'\",\n",
       " 'track',\n",
       " 'santa',\n",
       " 'claus',\n",
       " \"'\",\n",
       " 'flight',\n",
       " 'around',\n",
       " 'world',\n",
       " 'christmas',\n",
       " 'eve',\n",
       " 'one',\n",
       " 'planet',\n",
       " \"'\",\n",
       " 'powerful',\n",
       " 'forces',\n",
       " 'change',\n",
       " '?',\n",
       " 'adolescent',\n",
       " 'girl',\n",
       " 'draymond',\n",
       " 'green',\n",
       " 'take',\n",
       " 'game',\n",
       " 'next',\n",
       " 'level',\n",
       " '?',\n",
       " 'tuning',\n",
       " 'wnba',\n",
       " 'ryan',\n",
       " 'lochte',\n",
       " 'apologizes',\n",
       " 'behavior',\n",
       " 'rio',\n",
       " '4',\n",
       " 'lessons',\n",
       " 'prison',\n",
       " 'taught',\n",
       " 'power',\n",
       " 'control',\n",
       " 'america',\n",
       " \"'\",\n",
       " 'first',\n",
       " 'muslim',\n",
       " 'fraternity',\n",
       " 'really',\n",
       " 'like',\n",
       " '?',\n",
       " 'vicious',\n",
       " 'knot',\n",
       " 'syria',\n",
       " ',',\n",
       " 'untangling',\n",
       " 'process',\n",
       " 'contains',\n",
       " 'solutions',\n",
       " 'time',\n",
       " 'congressman',\n",
       " 'thinks',\n",
       " 'fix',\n",
       " 'economy',\n",
       " 'drinking',\n",
       " 'beer',\n",
       " 'trump',\n",
       " 'orders',\n",
       " 'strikes',\n",
       " 'syria',\n",
       " 'retaliation',\n",
       " 'chemical',\n",
       " 'attack',\n",
       " 'year',\n",
       " '-',\n",
       " 'round',\n",
       " 'schooling',\n",
       " ':',\n",
       " 'would',\n",
       " 'help',\n",
       " 'minority',\n",
       " 'students',\n",
       " '90',\n",
       " 'zen',\n",
       " 'teachers',\n",
       " 'pledge',\n",
       " 'change',\n",
       " 'culture',\n",
       " 'fosters',\n",
       " 'abuse',\n",
       " 'nypd',\n",
       " 'weighs',\n",
       " 'allowing',\n",
       " 'chokeholds',\n",
       " 'following',\n",
       " 'eric',\n",
       " 'garner',\n",
       " 'death',\n",
       " 'pope',\n",
       " 'francis',\n",
       " 'reminds',\n",
       " 'world',\n",
       " 'caring',\n",
       " 'earth',\n",
       " 'everyone',\n",
       " \"'\",\n",
       " 'responsibility',\n",
       " \"'\",\n",
       " 'gravity',\n",
       " \"'\",\n",
       " '&',\n",
       " \"'\",\n",
       " '12',\n",
       " 'years',\n",
       " 'slave',\n",
       " \"'\",\n",
       " 'tie',\n",
       " '2014',\n",
       " 'pga',\n",
       " 'awards',\n",
       " 'national',\n",
       " 'coming',\n",
       " 'day',\n",
       " ',',\n",
       " '150',\n",
       " 'lgbtq',\n",
       " 'sports',\n",
       " 'people',\n",
       " 'come',\n",
       " 'last',\n",
       " 'year',\n",
       " 'john',\n",
       " 'oliver',\n",
       " 'lays',\n",
       " 'disturbing',\n",
       " 'ways',\n",
       " 'trump',\n",
       " 'impacts',\n",
       " 'america',\n",
       " 'house',\n",
       " 'gop',\n",
       " 'crackdown',\n",
       " 'continues',\n",
       " 'look',\n",
       " ':',\n",
       " 'world',\n",
       " 'cup',\n",
       " 'star',\n",
       " 'attacked',\n",
       " 'giant',\n",
       " 'bug',\n",
       " 'inhofe',\n",
       " \"'\",\n",
       " 'grand',\n",
       " 'climate',\n",
       " 'conspiracy',\n",
       " 'theory',\n",
       " ':',\n",
       " \"'\",\n",
       " 'barbra',\n",
       " 'streisand',\n",
       " '5',\n",
       " 'questions',\n",
       " 'wish',\n",
       " 'younger',\n",
       " 'people',\n",
       " 'would',\n",
       " 'stop',\n",
       " 'asking',\n",
       " 'albuquerque',\n",
       " 'shooter',\n",
       " 'loose',\n",
       " ';',\n",
       " 'gunman',\n",
       " 'leaves',\n",
       " '1',\n",
       " 'dead',\n",
       " ',',\n",
       " '3',\n",
       " 'injured',\n",
       " \"'\",\n",
       " 'like',\n",
       " 'lose',\n",
       " 'everything',\n",
       " 'flood',\n",
       " 'demi',\n",
       " 'lovato',\n",
       " 'drops',\n",
       " 'emotional',\n",
       " \"'\",\n",
       " 'nightingale',\n",
       " \"'\",\n",
       " 'music',\n",
       " 'vid',\n",
       " 'miley',\n",
       " 'cyrus',\n",
       " 'liam',\n",
       " 'hemsworth',\n",
       " 'smooch',\n",
       " 'nye',\n",
       " ',',\n",
       " 'world',\n",
       " 'notices',\n",
       " \"'\",\n",
       " 'parks',\n",
       " 'rec',\n",
       " \"'\",\n",
       " 'star',\n",
       " 'natalie',\n",
       " 'morales',\n",
       " 'comes',\n",
       " 'queer',\n",
       " 'top',\n",
       " 'italy',\n",
       " 'tours',\n",
       " '2015',\n",
       " 'kaia',\n",
       " 'gerber',\n",
       " ',',\n",
       " 'cindy',\n",
       " 'crawford',\n",
       " \"'\",\n",
       " 'daughter',\n",
       " ',',\n",
       " 'lands',\n",
       " 'major',\n",
       " 'fashion',\n",
       " 'campaign',\n",
       " 'james',\n",
       " 'corden',\n",
       " 'roasts',\n",
       " 'david',\n",
       " 'beckham',\n",
       " 'matching',\n",
       " 'outfits',\n",
       " 'posh',\n",
       " 'mcdonald',\n",
       " \"'\",\n",
       " 'says',\n",
       " 'packaging',\n",
       " '100',\n",
       " 'percent',\n",
       " 'green',\n",
       " '2025',\n",
       " 'kris',\n",
       " 'jenner',\n",
       " 'turned',\n",
       " 'way',\n",
       " 'drunken',\n",
       " 'valentine',\n",
       " \"'\",\n",
       " 'day',\n",
       " 'karaoke',\n",
       " 'texas',\n",
       " 'ebola',\n",
       " 'patient',\n",
       " \"'\",\n",
       " 'fighting',\n",
       " 'life',\n",
       " \"'\",\n",
       " 'scott',\n",
       " 'pruitt',\n",
       " '(',\n",
       " 'sort',\n",
       " ')',\n",
       " 'answers',\n",
       " 'whether',\n",
       " 'trump',\n",
       " 'believes',\n",
       " 'climate',\n",
       " 'change',\n",
       " 'accused',\n",
       " 'father',\n",
       " 'son',\n",
       " 'urinal',\n",
       " 'thieves',\n",
       " 'flushed',\n",
       " 'cops',\n",
       " '3',\n",
       " 'libertarians',\n",
       " 'fuel',\n",
       " '$',\n",
       " '7',\n",
       " 'million',\n",
       " 'super',\n",
       " 'pac',\n",
       " 'philadelphia',\n",
       " \"'\",\n",
       " 'mayoral',\n",
       " 'democratic',\n",
       " 'primary',\n",
       " 'air',\n",
       " 'force',\n",
       " 'longer',\n",
       " 'require',\n",
       " \"'\",\n",
       " 'help',\n",
       " 'god',\n",
       " \"'\",\n",
       " 'enlistment',\n",
       " 'oaths',\n",
       " 'explosion',\n",
       " 'fells',\n",
       " 'building',\n",
       " 'outside',\n",
       " 'paris',\n",
       " ',',\n",
       " 'killing',\n",
       " 'least',\n",
       " '2',\n",
       " 'source',\n",
       " 'donald',\n",
       " 'trump',\n",
       " \"'\",\n",
       " 'military',\n",
       " 'expertise',\n",
       " 'finally',\n",
       " 'revealed',\n",
       " '!',\n",
       " 'union',\n",
       " 'claims',\n",
       " 'sanders',\n",
       " 'campaign',\n",
       " 'staffers',\n",
       " 'posed',\n",
       " 'members',\n",
       " 'influence',\n",
       " 'workers',\n",
       " 'seattle',\n",
       " 'mayor',\n",
       " \"'\",\n",
       " 'accuser',\n",
       " 'sex',\n",
       " '-',\n",
       " 'abuse',\n",
       " 'lawsuit',\n",
       " 'comes',\n",
       " 'forward',\n",
       " 'swedish',\n",
       " 'police',\n",
       " 'featured',\n",
       " 'film',\n",
       " 'shown',\n",
       " 'fox',\n",
       " 'news',\n",
       " 'say',\n",
       " 'selectively',\n",
       " 'edited',\n",
       " 'chromat',\n",
       " 'features',\n",
       " '1',\n",
       " ',',\n",
       " '2',\n",
       " 'plus',\n",
       " '-',\n",
       " 'size',\n",
       " 'models',\n",
       " 'runway',\n",
       " 'councilman',\n",
       " 'calls',\n",
       " 'baltimore',\n",
       " 'rappers',\n",
       " 'inspire',\n",
       " 'students',\n",
       " '10',\n",
       " 'qualities',\n",
       " 'inner',\n",
       " 'spirit',\n",
       " 'parenting',\n",
       " 'advice',\n",
       " \"'\",\n",
       " 'dare',\n",
       " 'give',\n",
       " 'celebrities',\n",
       " 'celebrate',\n",
       " 'fourth',\n",
       " 'july',\n",
       " 'fun',\n",
       " 'sun',\n",
       " 'international',\n",
       " 'women',\n",
       " \"'\",\n",
       " 'day',\n",
       " ':',\n",
       " '\"',\n",
       " 'western',\n",
       " 'women',\n",
       " 'save',\n",
       " 'world',\n",
       " '\"',\n",
       " '?',\n",
       " 'michelle',\n",
       " 'phan',\n",
       " ',',\n",
       " 'youtube',\n",
       " \"'\",\n",
       " \"'\",\n",
       " 'beauty',\n",
       " 'bestie',\n",
       " ',',\n",
       " \"'\",\n",
       " 'empowers',\n",
       " 'women',\n",
       " 'outside',\n",
       " 'caitlyn',\n",
       " 'jenner',\n",
       " 'responds',\n",
       " 'ricky',\n",
       " 'gervais',\n",
       " \"'\",\n",
       " 'golden',\n",
       " 'globes',\n",
       " 'jokes',\n",
       " 'joy',\n",
       " 'behar',\n",
       " 'responds',\n",
       " 'michael',\n",
       " 'flynn',\n",
       " 'guilty',\n",
       " 'plea',\n",
       " 'pure',\n",
       " 'joy',\n",
       " '6',\n",
       " 'things',\n",
       " 'one',\n",
       " 'tells',\n",
       " 'women',\n",
       " 'weight',\n",
       " 'loss',\n",
       " 'journey',\n",
       " 'ne',\n",
       " '-',\n",
       " 'yo',\n",
       " 'helps',\n",
       " 'raise',\n",
       " '$',\n",
       " '2.3',\n",
       " 'million',\n",
       " 'california',\n",
       " 'engineering',\n",
       " 'school',\n",
       " 'elizabeth',\n",
       " 'warren',\n",
       " 'calls',\n",
       " 'donald',\n",
       " 'trump',\n",
       " \"'\",\n",
       " 'racist',\n",
       " 'bully',\n",
       " \"'\",\n",
       " 'six',\n",
       " 'dead',\n",
       " ',',\n",
       " '10',\n",
       " 'hurt',\n",
       " 'baltimore',\n",
       " 'commuter',\n",
       " ',',\n",
       " 'school',\n",
       " 'bus',\n",
       " 'crash',\n",
       " 'kim',\n",
       " 'gordon',\n",
       " 'clarifies',\n",
       " 'comments',\n",
       " 'lana',\n",
       " 'del',\n",
       " 'rey',\n",
       " 'feminism',\n",
       " 'niece',\n",
       " 'cancer',\n",
       " \"'\",\n",
       " 'ticked',\n",
       " 'supermodel',\n",
       " 'stephanie',\n",
       " 'seymour',\n",
       " 'arrested',\n",
       " ',',\n",
       " 'charged',\n",
       " 'drunken',\n",
       " 'driving',\n",
       " 'scoliosis',\n",
       " ':',\n",
       " 'need',\n",
       " 'know',\n",
       " 'controversy',\n",
       " 'erupts',\n",
       " 'uk',\n",
       " 'retailer',\n",
       " 'removes',\n",
       " 'gender',\n",
       " 'labels',\n",
       " 'kids',\n",
       " \"'\",\n",
       " 'clothes',\n",
       " 'megyn',\n",
       " 'kelly',\n",
       " 'donald',\n",
       " 'trump',\n",
       " ':',\n",
       " \"'\",\n",
       " 'done',\n",
       " 'level',\n",
       " 'best',\n",
       " 'make',\n",
       " 'story',\n",
       " \"'\",\n",
       " 'secret',\n",
       " 'behind',\n",
       " 'one',\n",
       " 'day',\n",
       " 'project',\n",
       " 'going',\n",
       " 'viral',\n",
       " 'creating',\n",
       " 'leverage',\n",
       " 'none',\n",
       " 'seems',\n",
       " 'exist',\n",
       " 'lawsuit',\n",
       " 'black',\n",
       " 'lives',\n",
       " 'matter',\n",
       " 'central',\n",
       " 'meaning',\n",
       " 'first',\n",
       " 'amendment',\n",
       " \"'\",\n",
       " 'wire',\n",
       " \"'\",\n",
       " 'cast',\n",
       " 'reunited',\n",
       " 'baltimore',\n",
       " 'uplift',\n",
       " 'community',\n",
       " 'obama',\n",
       " \"'\",\n",
       " 'supreme',\n",
       " 'court',\n",
       " 'nominee',\n",
       " 'bragged',\n",
       " 'sending',\n",
       " 'man',\n",
       " 'prison',\n",
       " '.',\n",
       " \"'\",\n",
       " 'free',\n",
       " '.',\n",
       " 'death',\n",
       " '.',\n",
       " 'c',\n",
       " '.',\n",
       " 'man',\n",
       " 'security',\n",
       " 'guard',\n",
       " 'custody',\n",
       " 'ruled',\n",
       " 'homicide',\n",
       " 'boehner',\n",
       " 'vows',\n",
       " 'leave',\n",
       " 'successor',\n",
       " 'clean',\n",
       " 'slate',\n",
       " 'facing',\n",
       " 'rising',\n",
       " 'seas',\n",
       " ',',\n",
       " 'remote',\n",
       " 'alaskan',\n",
       " 'village',\n",
       " 'votes',\n",
       " 'move',\n",
       " '(',\n",
       " ')',\n",
       " 'worst',\n",
       " 'place',\n",
       " 'world',\n",
       " 'child',\n",
       " 'mom',\n",
       " 'sentenced',\n",
       " 'encouraging',\n",
       " 'boyfriend',\n",
       " \"'\",\n",
       " 'sex',\n",
       " 'assault',\n",
       " 'baby',\n",
       " 'donald',\n",
       " 'trump',\n",
       " \"'\",\n",
       " 'assault',\n",
       " 'values',\n",
       " 'women',\n",
       " \"'\",\n",
       " 'march',\n",
       " 'inspired',\n",
       " 'run',\n",
       " '.',\n",
       " \"'\",\n",
       " 'unseating',\n",
       " 'gop',\n",
       " 'men',\n",
       " '.',\n",
       " 'worth',\n",
       " ',',\n",
       " 'america',\n",
       " '?',\n",
       " 'gop',\n",
       " 'senators',\n",
       " \"'\",\n",
       " 'ready',\n",
       " 'accept',\n",
       " 'trump',\n",
       " 'champion',\n",
       " 'price',\n",
       " '-',\n",
       " 'gouging',\n",
       " 'pharma',\n",
       " 'ceo',\n",
       " 'takes',\n",
       " 'cancer',\n",
       " 'company',\n",
       " \"'\",\n",
       " 'straight',\n",
       " 'outta',\n",
       " 'compton',\n",
       " \"'\",\n",
       " 'stunning',\n",
       " 'surprise',\n",
       " 'carly',\n",
       " 'rae',\n",
       " 'jepsen',\n",
       " 'released',\n",
       " 'new',\n",
       " 'single',\n",
       " ',',\n",
       " \"'\",\n",
       " \"'\",\n",
       " 'gunman',\n",
       " 'kills',\n",
       " 'one',\n",
       " ',',\n",
       " 'wounds',\n",
       " 'four',\n",
       " 'shooting',\n",
       " 'german',\n",
       " 'nightclub',\n",
       " 'mountain',\n",
       " 'lion',\n",
       " 'tracked',\n",
       " 'scientists',\n",
       " 'found',\n",
       " 'dead',\n",
       " 'near',\n",
       " 'malibu',\n",
       " 'road',\n",
       " 'noah',\n",
       " 'cyrus',\n",
       " 'makes',\n",
       " 'late',\n",
       " '-',\n",
       " 'night',\n",
       " 'debut',\n",
       " 'belting',\n",
       " \"'\",\n",
       " 'make',\n",
       " '(',\n",
       " 'cry',\n",
       " ')',\n",
       " \"'\",\n",
       " 'taylor',\n",
       " 'swift',\n",
       " 'used',\n",
       " \"'\",\n",
       " 'gremlin',\n",
       " 'voice',\n",
       " \"'\",\n",
       " 'writing',\n",
       " \"'\",\n",
       " '1989',\n",
       " \"'\",\n",
       " 'best',\n",
       " 'way',\n",
       " 'eat',\n",
       " 'avocados',\n",
       " ':',\n",
       " 'avocado',\n",
       " 'pasta',\n",
       " 'open',\n",
       " 'letter',\n",
       " 'progressives',\n",
       " ':',\n",
       " 'tpp',\n",
       " 'yet',\n",
       " ...]"
      ]
     },
     "execution_count": 21,
     "metadata": {},
     "output_type": "execute_result"
    }
   ],
   "source": [
    "# Esta celda convierte una lista de listas en una unica lista\n",
    "todos_titulares_no_sarcasmo = list(itertools.chain(*todos_titulares_no_sarcasmo))\n",
    "todos_titulares_no_sarcasmo"
   ]
  },
  {
   "cell_type": "code",
   "execution_count": 22,
   "metadata": {
    "colab": {},
    "colab_type": "code",
    "id": "F4CVrcCFQDzn"
   },
   "outputs": [
    {
     "data": {
      "text/plain": [
       "FreqDist({\"'\": 9536, ',': 2387, ':': 1796, '-': 1668, 'trump': 1446, '.': 1291, '?': 735, 'new': 680, 'donald': 458, 'says': 349, ...})"
      ]
     },
     "execution_count": 22,
     "metadata": {},
     "output_type": "execute_result"
    }
   ],
   "source": [
    "#FreqDist\n",
    "freq_no_sarcasmo = nltk.FreqDist(todos_titulares_no_sarcasmo)\n",
    "freq_no_sarcasmo"
   ]
  },
  {
   "cell_type": "code",
   "execution_count": 29,
   "metadata": {
    "colab": {},
    "colab_type": "code",
    "id": "6s0Xp6vTQD00"
   },
   "outputs": [
    {
     "data": {
      "text/html": [
       "<div>\n",
       "<style scoped>\n",
       "    .dataframe tbody tr th:only-of-type {\n",
       "        vertical-align: middle;\n",
       "    }\n",
       "\n",
       "    .dataframe tbody tr th {\n",
       "        vertical-align: top;\n",
       "    }\n",
       "\n",
       "    .dataframe thead th {\n",
       "        text-align: right;\n",
       "    }\n",
       "</style>\n",
       "<table border=\"1\" class=\"dataframe\">\n",
       "  <thead>\n",
       "    <tr style=\"text-align: right;\">\n",
       "      <th></th>\n",
       "      <th>Word</th>\n",
       "      <th>Frequency</th>\n",
       "    </tr>\n",
       "  </thead>\n",
       "  <tbody>\n",
       "    <tr>\n",
       "      <th>0</th>\n",
       "      <td>former</td>\n",
       "      <td>82</td>\n",
       "    </tr>\n",
       "    <tr>\n",
       "      <th>1</th>\n",
       "      <td>versace</td>\n",
       "      <td>1</td>\n",
       "    </tr>\n",
       "    <tr>\n",
       "      <th>2</th>\n",
       "      <td>store</td>\n",
       "      <td>14</td>\n",
       "    </tr>\n",
       "    <tr>\n",
       "      <th>3</th>\n",
       "      <td>clerk</td>\n",
       "      <td>5</td>\n",
       "    </tr>\n",
       "    <tr>\n",
       "      <th>4</th>\n",
       "      <td>sues</td>\n",
       "      <td>15</td>\n",
       "    </tr>\n",
       "  </tbody>\n",
       "</table>\n",
       "</div>"
      ],
      "text/plain": [
       "      Word  Frequency\n",
       "0   former         82\n",
       "1  versace          1\n",
       "2    store         14\n",
       "3    clerk          5\n",
       "4     sues         15"
      ]
     },
     "execution_count": 29,
     "metadata": {},
     "output_type": "execute_result"
    }
   ],
   "source": [
    "# googlear: how to get pandas dataframe from freqdist\n",
    "df_no_sarcasmo = pd.DataFrame(freq_no_sarcasmo.items(), columns=['Word', 'Frequency'])\n",
    "df_no_sarcasmo.head()"
   ]
  },
  {
   "cell_type": "code",
   "execution_count": 30,
   "metadata": {
    "colab": {},
    "colab_type": "code",
    "id": "pHcWTQBoQD1i"
   },
   "outputs": [
    {
     "data": {
      "text/html": [
       "<div>\n",
       "<style scoped>\n",
       "    .dataframe tbody tr th:only-of-type {\n",
       "        vertical-align: middle;\n",
       "    }\n",
       "\n",
       "    .dataframe tbody tr th {\n",
       "        vertical-align: top;\n",
       "    }\n",
       "\n",
       "    .dataframe thead th {\n",
       "        text-align: right;\n",
       "    }\n",
       "</style>\n",
       "<table border=\"1\" class=\"dataframe\">\n",
       "  <thead>\n",
       "    <tr style=\"text-align: right;\">\n",
       "      <th></th>\n",
       "      <th>Word</th>\n",
       "      <th>Frequency</th>\n",
       "    </tr>\n",
       "  </thead>\n",
       "  <tbody>\n",
       "    <tr>\n",
       "      <th>6</th>\n",
       "      <td>'</td>\n",
       "      <td>9536</td>\n",
       "    </tr>\n",
       "    <tr>\n",
       "      <th>17</th>\n",
       "      <td>,</td>\n",
       "      <td>2387</td>\n",
       "    </tr>\n",
       "    <tr>\n",
       "      <th>49</th>\n",
       "      <td>:</td>\n",
       "      <td>1796</td>\n",
       "    </tr>\n",
       "    <tr>\n",
       "      <th>37</th>\n",
       "      <td>-</td>\n",
       "      <td>1668</td>\n",
       "    </tr>\n",
       "    <tr>\n",
       "      <th>51</th>\n",
       "      <td>trump</td>\n",
       "      <td>1446</td>\n",
       "    </tr>\n",
       "  </tbody>\n",
       "</table>\n",
       "</div>"
      ],
      "text/plain": [
       "     Word  Frequency\n",
       "6       '       9536\n",
       "17      ,       2387\n",
       "49      :       1796\n",
       "37      -       1668\n",
       "51  trump       1446"
      ]
     },
     "execution_count": 30,
     "metadata": {},
     "output_type": "execute_result"
    }
   ],
   "source": [
    "# ordenar por frecuencia\n",
    "df_no_sarcasmo.sort_values('Frequency', inplace=True, ascending=False)\n",
    "df_no_sarcasmo.head()"
   ]
  },
  {
   "cell_type": "code",
   "execution_count": 31,
   "metadata": {
    "colab": {},
    "colab_type": "code",
    "id": "N2mDKyitQD2-"
   },
   "outputs": [
    {
     "data": {
      "text/html": [
       "<div>\n",
       "<style scoped>\n",
       "    .dataframe tbody tr th:only-of-type {\n",
       "        vertical-align: middle;\n",
       "    }\n",
       "\n",
       "    .dataframe tbody tr th {\n",
       "        vertical-align: top;\n",
       "    }\n",
       "\n",
       "    .dataframe thead th {\n",
       "        text-align: right;\n",
       "    }\n",
       "</style>\n",
       "<table border=\"1\" class=\"dataframe\">\n",
       "  <thead>\n",
       "    <tr style=\"text-align: right;\">\n",
       "      <th></th>\n",
       "      <th>Word</th>\n",
       "      <th>Frequency</th>\n",
       "    </tr>\n",
       "  </thead>\n",
       "  <tbody>\n",
       "    <tr>\n",
       "      <th>0</th>\n",
       "      <td>'</td>\n",
       "      <td>9536</td>\n",
       "    </tr>\n",
       "    <tr>\n",
       "      <th>1</th>\n",
       "      <td>,</td>\n",
       "      <td>2387</td>\n",
       "    </tr>\n",
       "    <tr>\n",
       "      <th>2</th>\n",
       "      <td>:</td>\n",
       "      <td>1796</td>\n",
       "    </tr>\n",
       "    <tr>\n",
       "      <th>3</th>\n",
       "      <td>-</td>\n",
       "      <td>1668</td>\n",
       "    </tr>\n",
       "    <tr>\n",
       "      <th>4</th>\n",
       "      <td>trump</td>\n",
       "      <td>1446</td>\n",
       "    </tr>\n",
       "  </tbody>\n",
       "</table>\n",
       "</div>"
      ],
      "text/plain": [
       "    Word  Frequency\n",
       "0      '       9536\n",
       "1      ,       2387\n",
       "2      :       1796\n",
       "3      -       1668\n",
       "4  trump       1446"
      ]
     },
     "execution_count": 31,
     "metadata": {},
     "output_type": "execute_result"
    }
   ],
   "source": [
    "df_no_sarcasmo.reset_index(drop = True, inplace=True)\n",
    "df_no_sarcasmo.head()"
   ]
  },
  {
   "cell_type": "code",
   "execution_count": 32,
   "metadata": {
    "colab": {},
    "colab_type": "code",
    "id": "Am4aIRHbQD3R"
   },
   "outputs": [
    {
     "data": {
      "image/png": "[encoded data removed]",
      "text/plain": [
       "<Figure size 1080x576 with 1 Axes>"
      ]
     },
     "metadata": {},
     "output_type": "display_data"
    }
   ],
   "source": [
    "plt.figure(figsize = (15,8))\n",
    "sns.barplot(x  = df_no_sarcasmo.iloc[:30].Word, y = df_no_sarcasmo.iloc[:30].Frequency)\n",
    "#for item in plot.get_xticklabels():\n",
    "#    item.set_rotation(90)\n",
    "plt.xticks(rotation=90)\n",
    "plt.show()"
   ]
  },
  {
   "cell_type": "markdown",
   "metadata": {
    "colab_type": "text",
    "id": "Blva5-R6QD3h"
   },
   "source": [
    "#### Sarcasmo"
   ]
  },
  {
   "cell_type": "code",
   "execution_count": 33,
   "metadata": {
    "colab": {},
    "colab_type": "code",
    "id": "neiLIy-eQD3j"
   },
   "outputs": [
    {
     "data": {
      "text/html": [
       "<div>\n",
       "<style scoped>\n",
       "    .dataframe tbody tr th:only-of-type {\n",
       "        vertical-align: middle;\n",
       "    }\n",
       "\n",
       "    .dataframe tbody tr th {\n",
       "        vertical-align: top;\n",
       "    }\n",
       "\n",
       "    .dataframe thead th {\n",
       "        text-align: right;\n",
       "    }\n",
       "</style>\n",
       "<table border=\"1\" class=\"dataframe\">\n",
       "  <thead>\n",
       "    <tr style=\"text-align: right;\">\n",
       "      <th></th>\n",
       "      <th>article_link</th>\n",
       "      <th>headline</th>\n",
       "      <th>is_sarcastic</th>\n",
       "    </tr>\n",
       "  </thead>\n",
       "  <tbody>\n",
       "    <tr>\n",
       "      <th>2</th>\n",
       "      <td>https://local.theonion.com/mom-starting-to-fea...</td>\n",
       "      <td>mom starting to fear son's web series closest ...</td>\n",
       "      <td>1</td>\n",
       "    </tr>\n",
       "    <tr>\n",
       "      <th>3</th>\n",
       "      <td>https://politics.theonion.com/boehner-just-wan...</td>\n",
       "      <td>boehner just wants wife to listen, not come up...</td>\n",
       "      <td>1</td>\n",
       "    </tr>\n",
       "    <tr>\n",
       "      <th>8</th>\n",
       "      <td>https://politics.theonion.com/top-snake-handle...</td>\n",
       "      <td>top snake handler leaves sinking huckabee camp...</td>\n",
       "      <td>1</td>\n",
       "    </tr>\n",
       "    <tr>\n",
       "      <th>15</th>\n",
       "      <td>https://entertainment.theonion.com/nuclear-bom...</td>\n",
       "      <td>nuclear bomb detonates during rehearsal for 's...</td>\n",
       "      <td>1</td>\n",
       "    </tr>\n",
       "    <tr>\n",
       "      <th>16</th>\n",
       "      <td>https://www.theonion.com/cosby-lawyer-asks-why...</td>\n",
       "      <td>cosby lawyer asks why accusers didn't come for...</td>\n",
       "      <td>1</td>\n",
       "    </tr>\n",
       "  </tbody>\n",
       "</table>\n",
       "</div>"
      ],
      "text/plain": [
       "                                         article_link  \\\n",
       "2   https://local.theonion.com/mom-starting-to-fea...   \n",
       "3   https://politics.theonion.com/boehner-just-wan...   \n",
       "8   https://politics.theonion.com/top-snake-handle...   \n",
       "15  https://entertainment.theonion.com/nuclear-bom...   \n",
       "16  https://www.theonion.com/cosby-lawyer-asks-why...   \n",
       "\n",
       "                                             headline  is_sarcastic  \n",
       "2   mom starting to fear son's web series closest ...             1  \n",
       "3   boehner just wants wife to listen, not come up...             1  \n",
       "8   top snake handler leaves sinking huckabee camp...             1  \n",
       "15  nuclear bomb detonates during rehearsal for 's...             1  \n",
       "16  cosby lawyer asks why accusers didn't come for...             1  "
      ]
     },
     "execution_count": 33,
     "metadata": {},
     "output_type": "execute_result"
    }
   ],
   "source": [
    "dataset_sarcasmo = dataset[dataset.is_sarcastic == 1]\n",
    "dataset_sarcasmo.head()"
   ]
  },
  {
   "cell_type": "code",
   "execution_count": 36,
   "metadata": {
    "colab": {},
    "colab_type": "code",
    "id": "NwVzTiAPQD4C"
   },
   "outputs": [],
   "source": [
    "todos_titulares_sarcasmo = []\n",
    "for item in dataset_sarcasmo.itertuples():\n",
    "    titular = nltk.RegexpTokenizer(reg).tokenize(item.headline) # Tokenizar con RegexpTokenizer\n",
    "    titular = [i for i in titular if i not in stopwords] # Filtrar por stopwords\n",
    "    todos_titulares_sarcasmo.append(titular) #agregar el resultado a la lista"
   ]
  },
  {
   "cell_type": "code",
   "execution_count": null,
   "metadata": {
    "colab": {},
    "colab_type": "code",
    "id": "r5jRnjIoQD47"
   },
   "outputs": [],
   "source": [
    "todos_titulares_sarcasmo = COMPLETAR\n",
    "todos_titulares_sarcasmo"
   ]
  },
  {
   "cell_type": "code",
   "execution_count": null,
   "metadata": {
    "colab": {},
    "colab_type": "code",
    "id": "epGI54xMQD5O"
   },
   "outputs": [],
   "source": [
    "freq_sarcasmo = COMPLETAR\n",
    "freq_sarcasmo"
   ]
  },
  {
   "cell_type": "code",
   "execution_count": null,
   "metadata": {
    "colab": {},
    "colab_type": "code",
    "id": "zdoIW-CWQD5s"
   },
   "outputs": [],
   "source": [
    "df_sarcasmo = COMPLETAR\n",
    "df_sarcasmo.head()"
   ]
  },
  {
   "cell_type": "code",
   "execution_count": null,
   "metadata": {
    "colab": {},
    "colab_type": "code",
    "id": "jaHY_9txQD7O"
   },
   "outputs": [],
   "source": [
    "df_sarcasmo.COMPLETAR\n",
    "df_sarcasmo.head()"
   ]
  },
  {
   "cell_type": "code",
   "execution_count": null,
   "metadata": {
    "colab": {},
    "colab_type": "code",
    "id": "n42riuOMQD7t"
   },
   "outputs": [],
   "source": [
    "df_sarcasmo.COMPLETAR\n",
    "df_sarcasmo.head()"
   ]
  },
  {
   "cell_type": "code",
   "execution_count": null,
   "metadata": {
    "colab": {},
    "colab_type": "code",
    "id": "NsZUws_LQD8N"
   },
   "outputs": [],
   "source": [
    "plt.figure(figsize = (15,8))\n",
    "COMPLETAR"
   ]
  },
  {
   "cell_type": "code",
   "execution_count": null,
   "metadata": {
    "colab": {},
    "colab_type": "code",
    "id": "BfED96oTQD8s"
   },
   "outputs": [],
   "source": [
    "filtrar = []\n",
    "if False:\n",
    "    filtrar.append(\"u\")\n",
    "    filtrar.append(\"new\")"
   ]
  },
  {
   "cell_type": "markdown",
   "metadata": {
    "colab_type": "text",
    "id": "xcQGl6vAQD9M"
   },
   "source": [
    "## 4. Stemming\n",
    "Por razones gramaticales muchas palabras pueden escribirse de manera distinta (debido a conjugación, género, número) pero tener el mismo significado para el texto. Por ejemplo si decimos \"jugar\", \"jugando\" o \"juega\", debido a como estan conjugadas, la computadora puede tratarlas como palabras distintas. Pero, en términos de significado, todas estan relacionadas al verbo Jugar. Muchas veces nos va a convenir unir todas estos términos en uno solo.\n",
    "\n",
    "Una de las manera de hacer esto es por \"STEMMING\". El Stemming es un proceso eurístico que recorta la terminación de las palabras, agrupándolas por su raiz. Reduzcamos la cantidad de palabras diferentes en nuestro dataset utilizando este proceso.\n",
    "\n",
    "a. Importar nuevamente el dataset completo"
   ]
  },
  {
   "cell_type": "code",
   "execution_count": null,
   "metadata": {
    "colab": {},
    "colab_type": "code",
    "id": "ROt3qJ1AQD9w",
    "scrolled": true
   },
   "outputs": [],
   "source": [
    "dataset = COMPLETAR\n",
    "dataset.head()"
   ]
  },
  {
   "cell_type": "markdown",
   "metadata": {
    "colab_type": "text",
    "id": "Xj7ak_8UQD-B"
   },
   "source": [
    "b. Tomar del `dataset` solo las columnas de interes"
   ]
  },
  {
   "cell_type": "code",
   "execution_count": null,
   "metadata": {
    "colab": {},
    "colab_type": "code",
    "id": "k9JIKsPNQD-L"
   },
   "outputs": [],
   "source": [
    "dataset = COMPLETAR\n",
    "dataset.dropna(axis=0,inplace=True)  # Si hay alguna nan, tiramos esa instancia\n",
    "dataset.head()"
   ]
  },
  {
   "cell_type": "markdown",
   "metadata": {
    "colab_type": "text",
    "id": "A1vXehk3QD-u"
   },
   "source": [
    "c. Antes de realizar el proceso de Stemming, vamos a normalizar el texto de la manera que ya estuvimos viendo. Le agregamos en este caso el uso de la libreria `re`, que nos permite sacar del texto todos los caracteres que no sean palabras. Notemos que hay veces que no conviene quitar estos caracteres ya que, por ejemplo, no podremos distiguir preguntas (?) o exclamaciones (!)."
   ]
  },
  {
   "cell_type": "code",
   "execution_count": null,
   "metadata": {
    "colab": {},
    "colab_type": "code",
    "id": "fbPf2GoCQD-w"
   },
   "outputs": [],
   "source": [
    "# Importamos esta libreria que nos permite reemplzar caracteres\n",
    "import re\n",
    "\n",
    "# Importamos la función que nos permite Stemmizar de nltk y definimos el stemmer\n",
    "from nltk.stem import PorterStemmer\n",
    "stemmer = PorterStemmer()\n",
    "\n",
    "# Traemos nuevamente las stopwords\n",
    "stopwords = nltk.COMPLETAR"
   ]
  },
  {
   "cell_type": "code",
   "execution_count": null,
   "metadata": {
    "colab": {},
    "colab_type": "code",
    "id": "xmQiHi2BQD__"
   },
   "outputs": [],
   "source": [
    "# Recorremos todos los titulos y le vamos aplicando la Normalizacion y luega el Stemming a cada uno\n",
    "titular_list=[]\n",
    "for titular in dataset.headline:\n",
    "    # Vamos a reemplzar los caracteres que no sean leras por espacios\n",
    "    titular=re.sub(\"[^a-zA-Z]\",\" \",str(titular))\n",
    "    # Pasamos todo a minúsculas\n",
    "    titular=titular.lower()\n",
    "    # Tokenizamos para separar las palabras del titular\n",
    "    titular=nltk.COMPLETAR\n",
    "    # Eliminamos las palabras de menos de 3 letras\n",
    "    titular = [palabra for palabra in titular if len(palabra)>3]\n",
    "    # Sacamos las Stopwords\n",
    "    titular = [COMPLETAR for COMPLETAR in COMPLETAR if not COMPLETAR in COMPLETAR]\n",
    "    \n",
    "    ## Hasta acá Normalizamos, ahora a stemmizar\n",
    "    \n",
    "    # Aplicamos la funcion para buscar la raiz de las palabras\n",
    "    titular = [stemmer.stem(COMPLETAR) for COMPLETAR in COMPLETAR]\n",
    "    # Por ultimo volvemos a unir el titular\n",
    "    titular = \" \".join(titular)\n",
    "    \n",
    "    # Vamos armando una lista con todos los titulares\n",
    "    titular_list.append(COMPLETAR)"
   ]
  },
  {
   "cell_type": "markdown",
   "metadata": {
    "colab_type": "text",
    "id": "P-ERRyOeQEAV"
   },
   "source": [
    "d. Agregamos al dataset una columna llamado `titular_stem` que contenga los titulares stemmizados"
   ]
  },
  {
   "cell_type": "code",
   "execution_count": null,
   "metadata": {
    "colab": {},
    "colab_type": "code",
    "id": "WGL-GJIGQEAX"
   },
   "outputs": [],
   "source": [
    "dataset[\"titular_stem\"] = COMPLETAR\n",
    "dataset.tail()"
   ]
  },
  {
   "cell_type": "markdown",
   "metadata": {
    "colab_type": "text",
    "id": "sL6wM-B-QEBi"
   },
   "source": [
    "e. Armamos un nuevo dataset llamado `dataset_stem` que contenga solo las columnas `titular_stem` e `is_sarcastic`"
   ]
  },
  {
   "cell_type": "code",
   "execution_count": null,
   "metadata": {
    "colab": {},
    "colab_type": "code",
    "id": "5cQjmBNfQEBk",
    "scrolled": true
   },
   "outputs": [],
   "source": [
    "dataset_stem = COMPLETAR\n",
    "dataset_stem.dropna(axis=0,inplace=True)  # Por si quedaron titulares vacios\n",
    "dataset_stem.head()"
   ]
  },
  {
   "cell_type": "markdown",
   "metadata": {
    "colab_type": "text",
    "id": "QMj8HUZ5QECD"
   },
   "source": [
    "## 5. Lemmatization\n",
    "\n",
    "Otra manera de llevar distintas palabras a un raíz común en la que comparten un significado es mediante el procezo de 'Lemmatizar' el texto. Es similar al 'Stemming' pero un poco más educado, ya que intenta realizar el proceso teniendo en cuenta cuál es el rol que la palabra cumple en el texto. Esto quiere decir que su accionar será distinto si la palabra a lemmantizar está actuando como verbo, sustantivo, etc. \n",
    "\n",
    "Para usar las funciones que ofrece `nltk` para lemmantizar, tendremos primero que descargar la libreria `Wordnet` que se encuentra en la solapa 'corpora' y las librerias 'maxent_treebank_pos_' y 'averaged_perceptron_tagger' que se encuentra en la solapa 'Models'. Para eso ejecute la siguiente celda:"
   ]
  },
  {
   "cell_type": "code",
   "execution_count": null,
   "metadata": {
    "colab": {},
    "colab_type": "code",
    "id": "EKqVMO5xQECH"
   },
   "outputs": [],
   "source": [
    "nltk.download()"
   ]
  },
  {
   "cell_type": "code",
   "execution_count": null,
   "metadata": {
    "colab": {},
    "colab_type": "code",
    "id": "NwA5eaumQEDz"
   },
   "outputs": [],
   "source": [
    "# Importamos esta libreria que nos permite reemplzar caracteres\n",
    "import re\n",
    "\n",
    "# Importamos el lemmatizar de NLTK, y creamos el objeto\n",
    "from nltk.stem import WordNetLemmatizer\n",
    "wordnet_lemmatizer = WordNetLemmatizer()"
   ]
  },
  {
   "cell_type": "markdown",
   "metadata": {
    "colab_type": "text",
    "id": "UCS37thkQEEC"
   },
   "source": [
    "Veamos cómo actúa el lemmatizer sobre una frase de ejemplo."
   ]
  },
  {
   "cell_type": "code",
   "execution_count": null,
   "metadata": {
    "colab": {},
    "colab_type": "code",
    "id": "rDJroBUXQEEE"
   },
   "outputs": [],
   "source": [
    "# Oracion que usaremos como ejemplo\n",
    "frase = \"He was running and eating at same time. He has bad habit of swimming after playing long hours in the Sun.\"\n",
    "\n",
    "# Hay que regularizar el texto. Dejar solo letra, pasar a minúsculas y tokenizar:\n",
    "\n",
    "# Sacamos todo lo que no sean letras\n",
    "frase = COMPLETAR\n",
    "# Pasamos a minúsculas\n",
    "frase = COMPLETAR\n",
    "# Tokenizamos\n",
    "frase_tokens = COMPLETAR\n",
    "\n",
    "# Veamos como cambians las palabras al lemmatizar\n",
    "print(\"{0:20}{1:20}\".format(\"Word\",\"Lemma\"))\n",
    "for palabra in frase_tokens:\n",
    "    print (\"{0:20}{1:20}\".format(palabra,wordnet_lemmatizer.lemmatize(palabra)))"
   ]
  },
  {
   "cell_type": "markdown",
   "metadata": {
    "colab_type": "text",
    "id": "KqPAgMrJQEFN"
   },
   "source": [
    "¿Te sorprende lo que paso? No cambiaron casi nada (solo se fueron las \"s\" del final). El problema es que precisamos darle información extra al Lemmatizer, decirle qué rol está cumpliendo la palabra en la oración. Si se fijan en la documentación, esto se hace pasandole un argumento extra a la función llamado POS (Part Of Speech).\n",
    "\n",
    "Hay distintos metodos que intentan averiguar el rol que cumple una palabra en una oración. Nosotros vamos a utilizar uno que viene incorporado en NLTK llamado pos_tag."
   ]
  },
  {
   "cell_type": "code",
   "execution_count": null,
   "metadata": {
    "colab": {},
    "colab_type": "code",
    "id": "GofFSrfgQEFP"
   },
   "outputs": [],
   "source": [
    "print(nltk.pos_tag(frase_tokens))"
   ]
  },
  {
   "cell_type": "markdown",
   "metadata": {
    "colab_type": "text",
    "id": "QwWayi68QEFi"
   },
   "source": [
    "Las etiquetas refieren al tipo de palabra. Vamos a definir una función para traducir estas etiquetas a los valores de POS que entiende `wordnet_lemmatizer`."
   ]
  },
  {
   "cell_type": "code",
   "execution_count": null,
   "metadata": {
    "colab": {},
    "colab_type": "code",
    "id": "lr-wZ3Y3QEFx"
   },
   "outputs": [],
   "source": [
    "from nltk.corpus import wordnet\n",
    "\n",
    "def get_wordnet_pos(word):\n",
    "    \"\"\"Map POS tag to first character lemmatize() accepts\"\"\"\n",
    "    tag = nltk.pos_tag([word])[0][1][0].upper()\n",
    "    tag_dict = {\"J\": wordnet.ADJ,\n",
    "                \"N\": wordnet.NOUN,\n",
    "                \"V\": wordnet.VERB,\n",
    "                \"R\": wordnet.ADV}\n",
    "\n",
    "    return tag_dict.get(tag, wordnet.NOUN)"
   ]
  },
  {
   "cell_type": "markdown",
   "metadata": {
    "colab_type": "text",
    "id": "FEwuc7X2QEGT"
   },
   "source": [
    "Veamos finalmente como funciona en nuestro ejemplo."
   ]
  },
  {
   "cell_type": "code",
   "execution_count": null,
   "metadata": {
    "colab": {},
    "colab_type": "code",
    "id": "smndHO4ZQEGV"
   },
   "outputs": [],
   "source": [
    "frase_lemma = [wordnet_lemmatizer.lemmatize(w, get_wordnet_pos(w)) for w in nltk.word_tokenize(frase)]\n",
    "tipo_palabra = [get_wordnet_pos(w) for w in nltk.word_tokenize(frase)]\n",
    "\n",
    "# Veamos como cambiaron las palabras\n",
    "print(\"{0:20}{1:20}{2:20}\".format(\"Palabra:\",\"Tipo:\",\"Lemma:\"))\n",
    "for i in range(len(frase_tokens)):\n",
    "    print (\"{0:20}{1:20}{2:20}\".format(frase_tokens[i],tipo_palabra[i],frase_lemma[i]))"
   ]
  },
  {
   "cell_type": "markdown",
   "metadata": {
    "colab_type": "text",
    "id": "s6_SxcFiQEHq"
   },
   "source": [
    "a. Ahora te toca aplicar todo esto a nuestro dataset. Vamos a volver a importarlo y hacer un procedimiento análogo al que hicimos para la parte de Stemming."
   ]
  },
  {
   "cell_type": "code",
   "execution_count": null,
   "metadata": {
    "colab": {},
    "colab_type": "code",
    "id": "mdrZw13gQEHr"
   },
   "outputs": [],
   "source": [
    "# Importamos el lemmatizar de NLTK, y creamos el objeto\n",
    "from nltk.stem import WordNetLemmatizer\n",
    "wordnet_lemmatizer = WordNetLemmatizer()\n",
    "\n",
    "# Importamos esta libreria que nos permite reemplzar caracteres\n",
    "import re\n",
    "\n",
    "dataset = COMPLETAR\n",
    "dataset = COMPLETAR\n",
    "dataset.dropna(axis=0,inplace=True)\n",
    "\n",
    "# Traemos nuevamente las stopwords\n",
    "stopwords = COMPLETAR"
   ]
  },
  {
   "cell_type": "code",
   "execution_count": null,
   "metadata": {
    "colab": {},
    "colab_type": "code",
    "id": "QuZIkkp1QEJR"
   },
   "outputs": [],
   "source": [
    "titular_list=[]\n",
    "for titular in dataset.headline:\n",
    "    # Vamos a reemplzar los caracteres que no sean leras por espacios\n",
    "    titular = COMPLETAR\n",
    "    # Pasamos todo a minúsculas\n",
    "    titular = COMPLETAR\n",
    "    # Tokenizamos para separar las palabras\n",
    "    titular = COMPLETAR\n",
    "    \n",
    "    # Aplicamos el Lemmatizer (Esto puede tardar un ratito)\n",
    "    frase_lemma = [wordnet_lemmatizer.lemmatize(w, get_wordnet_pos(w)) for w in titular]\n",
    "    \n",
    "    \n",
    "    # Eliminamos las palabras d emenos de 3 letras\n",
    "    titular = COMPLETAR\n",
    "    # Sacamos las Stopwords\n",
    "    titular = COMPLETAR\n",
    "    \n",
    "    # Por ultimo volvemos a unir el titular\n",
    "    titular=\" \".join(titular)\n",
    "    #dataset[\"titular_normalizado\"] = titular_list\n",
    "    titular_list.append(titular)"
   ]
  },
  {
   "cell_type": "code",
   "execution_count": null,
   "metadata": {
    "colab": {},
    "colab_type": "code",
    "id": "6PQEltFTQEJz"
   },
   "outputs": [],
   "source": [
    "dataset[\"titular_lemm\"] = COMPLETAR\n",
    "dataset.tail()"
   ]
  },
  {
   "cell_type": "markdown",
   "metadata": {
    "colab_type": "text",
    "id": "X1HsjEqpQEKJ"
   },
   "source": [
    "b. Por último nos armamos un nuevo datasate llamado `dataset_lem` que tenga solo las columnas `titular_lemm` y `is_sarcastic`."
   ]
  },
  {
   "cell_type": "code",
   "execution_count": null,
   "metadata": {
    "colab": {},
    "colab_type": "code",
    "id": "GXfxwnBOQEKL"
   },
   "outputs": [],
   "source": [
    "dataset_lemm = COMPLETAR\n",
    "dataset_lemm.dropna(axis=0,inplace=True)  # Por si quedaron titulares vacios\n",
    "dataset_lemm.head()"
   ]
  },
  {
   "cell_type": "markdown",
   "metadata": {
    "colab_type": "text",
    "id": "uLfP-txBQELI"
   },
   "source": [
    "**Para mirar**: toma algunos titulares al azar y compara su versión `dataset_lemm` y en `dataset_stem`. Explica.\n",
    "\n",
    "## 6. Vectorizar\n",
    "\n",
    "Hasta ahora, tenemos un grupo de palabras por cada titular (bag of words), ya sea *lemmatizado* o *stemmizado*. ¿Te parece que esto servirá para entrenar modelos? La idea ahora es representar esta lista de palabras como un vector. Para esto vamos a utilizar la función `CountVectorizer` de Scikit-Learn. Esta función nos permite representar cada título por un vector con un `1` en las palabras que contiene y un `0` en las que no. Además, vamos a trabajar únicamente con las palabras que aparecen más veces en el texto, ya que las que aparecen una única vez o pocas veces no nos van a brindar información que se pueda generalizar.\n",
    "\n",
    "a. Tomamos la lista de palabras y el vector que nos dice si es o no sarcástico el título"
   ]
  },
  {
   "cell_type": "code",
   "execution_count": null,
   "metadata": {
    "colab": {},
    "colab_type": "code",
    "id": "-H1iORJDQELR"
   },
   "outputs": [],
   "source": [
    "# Tomamso la lista de palabras y el vector que nos dice si es o no sarcastico el titulo\n",
    "list_titulos = list(COMPLETAR)\n",
    "is_sarc = COMPLETAR\n",
    "\n",
    "## Para probar con Stemmizer:\n",
    "#list_titulos = list(dataset_stem'titular_stem'].values)\n",
    "#is_sarc = dataset_stem['is_sarcastic'].values"
   ]
  },
  {
   "cell_type": "markdown",
   "metadata": {
    "colab_type": "text",
    "id": "EH9hhsySQEMO"
   },
   "source": [
    "b. Preparamos el conversor de bag of words a vectores que traemos de sklearn. `CountVectorizer` posee varias funcionalidades que pueden determinarse a partir de parámetros. Les recomendamos fuertemente leer su documentación."
   ]
  },
  {
   "cell_type": "code",
   "execution_count": null,
   "metadata": {
    "colab": {},
    "colab_type": "code",
    "id": "GbIDZhUkQEMd"
   },
   "outputs": [],
   "source": [
    "from sklearn.feature_extraction.text import CountVectorizer\n",
    "\n",
    "# Usaremos solo las 1000 palabras con mas frecuencia en todo el corpus para generar los vectores\n",
    "max_features=1000\n",
    "\n",
    "# Es decir que cada instancia tendrá 1000 features\n",
    "cou_vec=CountVectorizer(max_features=max_features) # stop_words=\"english\" , ngram_range=(1, 2)"
   ]
  },
  {
   "cell_type": "markdown",
   "metadata": {
    "colab_type": "text",
    "id": "rwY_fEXaQEM9"
   },
   "source": [
    "Notemos que desde `CountVectorizer` se pueden quitar las stopwords (algo que ya hicimos con `nltk`) e incluir los n_gramas automáticamente.\n",
    "\n",
    "c. Ahora sí, vamos generarnos los vectores para cada título a partir del corpus total."
   ]
  },
  {
   "cell_type": "code",
   "execution_count": null,
   "metadata": {
    "colab": {},
    "colab_type": "code",
    "id": "Rq4OjJOvQENL"
   },
   "outputs": [],
   "source": [
    "matriz_titulos = cou_vec.fit_transform(list_titulos)\n",
    "\n",
    "# Tomamos las palabras\n",
    "all_words = cou_vec.get_feature_names()\n",
    "\n",
    "# Vizualizamos las 50 palabras mas usadas\n",
    "print(\"50 palabras mas usadas: \",all_words[0:50])"
   ]
  },
  {
   "cell_type": "markdown",
   "metadata": {
    "colab_type": "text",
    "id": "1Rx8bCwMQEO2"
   },
   "source": [
    "## 7. Modelar\n",
    "\n",
    "Ahora sí estamos listos para usar todo nuestro conocimiento de modelos en este set de datos. Tengamos en cuenta que, dependiendo el número de palabras (features) que hayamos elegido, los modelos pueden tardar un rato en entrenarse.\n",
    "\n",
    "a. Primero, como siempre, separamos en test y train."
   ]
  },
  {
   "cell_type": "code",
   "execution_count": null,
   "metadata": {
    "colab": {},
    "colab_type": "code",
    "id": "RUZ_Gfv3QEO_"
   },
   "outputs": [],
   "source": [
    "x = matriz_titulos.toarray()\n",
    "y = is_sarc\n",
    "\n",
    "from sklearn.model_selection import train_test_split\n",
    "xtrain, xtest, ytrain, ytest = train_test_split(x,y,test_size=0.2,random_state=42,stratify=y)"
   ]
  },
  {
   "cell_type": "markdown",
   "metadata": {
    "colab_type": "text",
    "id": "cjlTAgTzQEP0"
   },
   "source": [
    "Tambien definimos una función que nos permite plotear los resultados en una matriz de confusión."
   ]
  },
  {
   "cell_type": "code",
   "execution_count": null,
   "metadata": {
    "colab": {},
    "colab_type": "code",
    "id": "gArzhnSjQEQD"
   },
   "outputs": [],
   "source": [
    "from sklearn.metrics import confusion_matrix\n",
    "import seaborn as sns\n",
    "\n",
    "def confusion(ytest,y_pred):\n",
    "    names=[\"No Sarcastico\",\"Sarcastico\"]\n",
    "    cm=confusion_matrix(ytest,y_pred)\n",
    "    f,ax=plt.subplots(figsize=(5,5))\n",
    "    sns.heatmap(cm,annot=True,linewidth=.5,linecolor=\"r\",fmt=\".0f\",ax=ax)\n",
    "    plt.xlabel(\"y_pred\")\n",
    "    plt.ylabel(\"y_true\")\n",
    "    ax.set_xticklabels(names)\n",
    "    ax.set_yticklabels(names)\n",
    "    plt.show()\n",
    "\n",
    "    return"
   ]
  },
  {
   "cell_type": "markdown",
   "metadata": {
    "colab_type": "text",
    "id": "9YrvQTJvQERP"
   },
   "source": [
    "### Naive Bayes\n",
    "a. Empecemos por un simple Naive Bayes para tener un benchmark de referencia para el accuracy."
   ]
  },
  {
   "cell_type": "code",
   "execution_count": null,
   "metadata": {
    "colab": {},
    "colab_type": "code",
    "id": "AY5fpPXYQERR"
   },
   "outputs": [],
   "source": [
    "from sklearn.naive_bayes import GaussianNB\n",
    "nb = GaussianNB()\n",
    "nb.fit(xtrain,ytrain)\n",
    "\n",
    "print(\"acc : \", COMPLETAR)"
   ]
  },
  {
   "cell_type": "markdown",
   "metadata": {
    "colab_type": "text",
    "id": "drARX3h7QERn"
   },
   "source": [
    "b. Veamos cómo queda graficada la matriz de confusión:"
   ]
  },
  {
   "cell_type": "code",
   "execution_count": null,
   "metadata": {
    "colab": {},
    "colab_type": "code",
    "id": "2gqqRhgjQERo"
   },
   "outputs": [],
   "source": [
    "y_pred = COMPLETAR\n",
    "confusion(ytest,y_pred)"
   ]
  },
  {
   "cell_type": "markdown",
   "metadata": {
    "colab_type": "text",
    "id": "xa0pzQOsQETm"
   },
   "source": [
    "### Random Forest\n",
    "a. Veamos cómo funciona un random forest para predecir el sarcasmo de una nota en base a su titular."
   ]
  },
  {
   "cell_type": "code",
   "execution_count": null,
   "metadata": {
    "colab": {},
    "colab_type": "code",
    "id": "A-exNk9SQETo"
   },
   "outputs": [],
   "source": [
    "from sklearn.ensemble import RandomForestClassifier\n",
    "from sklearn.metrics import confusion_matrix\n",
    "\n",
    "rf = COMPLETAR\n",
    "rf.fit(COMPLETAR)\n",
    "\n",
    "print(\"acc : \", COMPLETAR)"
   ]
  },
  {
   "cell_type": "markdown",
   "metadata": {
    "colab_type": "text",
    "id": "oCKUaZduQET-"
   },
   "source": [
    "b. Grafiquen su matriz de confusión:"
   ]
  },
  {
   "cell_type": "code",
   "execution_count": null,
   "metadata": {
    "colab": {},
    "colab_type": "code",
    "id": "C744ju88QEUC"
   },
   "outputs": [],
   "source": [
    "y_pred = COMPLETAR\n",
    "confusion(ytest,y_pred)"
   ]
  },
  {
   "cell_type": "markdown",
   "metadata": {
    "colab_type": "text",
    "id": "kK6ekGiDQEWU"
   },
   "source": [
    "c. Habíamos dicho que algo muy bueno de Random Forest era poder preguntarle por la importancia de los features que uso para clasificar. Veamos en este caso cuales son las palabras que mayormente determinan el sarcasmo de una nota para este clasificador."
   ]
  },
  {
   "cell_type": "code",
   "execution_count": null,
   "metadata": {
    "colab": {},
    "colab_type": "code",
    "id": "HNdCSG1TQEWV"
   },
   "outputs": [],
   "source": [
    "# Le preguntamos la importancia de cada feature (cada palabra)\n",
    "importances = rf.feature_importances_\n",
    "# Tomamos la lista de palabras\n",
    "all_words = cou_vec.get_feature_names()\n",
    "columns = all_words\n",
    "\n",
    "# Ordenamos por importnacia y tomamos las 20 primeras\n",
    "indices = np.argsort(importances)[::-1]\n",
    "indices = indices[:20]\n",
    "selected_columns = [columns[i] for i in indices]\n",
    "selected_importances = importances[indices]\n",
    "\n",
    "# Por ultimo graficamos\n",
    "plt.figure(figsize = (15,8))\n",
    "sns.barplot(selected_columns, selected_importances)\n",
    "plt.show()"
   ]
  },
  {
   "cell_type": "markdown",
   "metadata": {
    "colab_type": "text",
    "id": "k_jZvH3YQEWr"
   },
   "source": [
    "### SVM\n",
    "Por último vamos a utilizar uno de los modelos mas prometedores para este tipo de datos donde el numero de features es comparable al número de instancias: SVM."
   ]
  },
  {
   "cell_type": "markdown",
   "metadata": {
    "colab_type": "text",
    "id": "H9LuBi9CQEWs"
   },
   "source": [
    "a. Entrene un modelo de SVM Lineal y calcule su accuracy para C = 1."
   ]
  },
  {
   "cell_type": "code",
   "execution_count": null,
   "metadata": {
    "colab": {},
    "colab_type": "code",
    "id": "PZVAGcbEQEWt"
   },
   "outputs": [],
   "source": [
    "# Notar que en vez de utilizar SVC, vamos a usar LinearSVC. \n",
    "# Para el Kernel Lineal, esta función es MUCHO mas rapida que la tradicional SVC.\n",
    "from sklearn.svm import LinearSVC\n",
    "\n",
    "svc = LinearSVC(C = 1)\n",
    "svc.fit(COMPLETAR)\n",
    "\n",
    "print(\"acc : \", COMPLETAR)"
   ]
  },
  {
   "cell_type": "markdown",
   "metadata": {
    "colab_type": "text",
    "id": "_p0cfd-PQEXt"
   },
   "source": [
    "b. Grafiquen su matrz de confusión:"
   ]
  },
  {
   "cell_type": "code",
   "execution_count": null,
   "metadata": {
    "colab": {},
    "colab_type": "code",
    "id": "dllLowQyQEX1"
   },
   "outputs": [],
   "source": [
    "y_pred = COMPLETAR\n",
    "confusion(ytest,y_pred)"
   ]
  },
  {
   "cell_type": "markdown",
   "metadata": {
    "colab_type": "text",
    "id": "m-CmJZayQEYK"
   },
   "source": [
    "## 7. Explora las posibilidades\n",
    "\n",
    "Si llegaste hasta acá, ya cuentas con todas las herramientas para poder explorar qué sucede con el poder predictivo cuando van cambiando la manera en que procesas y vectorizas el texto. Algunas sugerencias para explorar son las siguientes:\n",
    "\n",
    "1. Prueba con Stemmizar en vez de lemmantizar\n",
    "1. Cambia el numero de features que esta tomando.\n",
    "1. Prueba con TF-IDF.\n",
    "1. Incluye los 2-gramas. ¿Qué era eso?\n",
    "1. Conserve los signos de exclamación y pregunta del texto.\n"
   ]
  },
  {
   "cell_type": "code",
   "execution_count": null,
   "metadata": {
    "colab": {},
    "colab_type": "code",
    "id": "FnpWJOJwQEYM"
   },
   "outputs": [],
   "source": []
  }
 ],
 "metadata": {
  "colab": {
   "name": "DS_Bitácora_39_y_40_NLP.ipynb",
   "provenance": []
  },
  "kernelspec": {
   "display_name": "Python 3",
   "language": "python",
   "name": "python3"
  },
  "language_info": {
   "codemirror_mode": {
    "name": "ipython",
    "version": 3
   },
   "file_extension": ".py",
   "mimetype": "text/x-python",
   "name": "python",
   "nbconvert_exporter": "python",
   "pygments_lexer": "ipython3",
   "version": "3.8.2"
  }
 },
 "nbformat": 4,
 "nbformat_minor": 1
}
